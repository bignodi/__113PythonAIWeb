{
 "cells": [
  {
   "cell_type": "code",
   "execution_count": 2,
   "metadata": {},
   "outputs": [
    {
     "name": "stdout",
     "output_type": "stream",
     "text": [
      "Defaulting to user installation because normal site-packages is not writeable\n",
      "Collecting pydantic\n",
      "  Downloading pydantic-2.7.1-py3-none-any.whl (409 kB)\n",
      "\u001b[2K     \u001b[90m━━━━━━━━━━━━━━━━━━━━━━━━━━━━━━━━━━━━━━\u001b[0m \u001b[32m409.3/409.3 kB\u001b[0m \u001b[31m12.0 MB/s\u001b[0m eta \u001b[36m0:00:00\u001b[0m\n",
      "\u001b[?25hCollecting annotated-types>=0.4.0\n",
      "  Downloading annotated_types-0.7.0-py3-none-any.whl (13 kB)\n",
      "Requirement already satisfied: typing-extensions>=4.6.1 in /home/vscode/.local/lib/python3.10/site-packages (from pydantic) (4.11.0)\n",
      "Collecting pydantic-core==2.18.2\n",
      "  Downloading pydantic_core-2.18.2-cp310-cp310-manylinux_2_17_x86_64.manylinux2014_x86_64.whl (2.1 MB)\n",
      "\u001b[2K     \u001b[90m━━━━━━━━━━━━━━━━━━━━━━━━━━━━━━━━━━━━━━━━\u001b[0m \u001b[32m2.1/2.1 MB\u001b[0m \u001b[31m38.4 MB/s\u001b[0m eta \u001b[36m0:00:00\u001b[0m:00:01\u001b[0m\n",
      "\u001b[?25hInstalling collected packages: pydantic-core, annotated-types, pydantic\n",
      "Successfully installed annotated-types-0.7.0 pydantic-2.7.1 pydantic-core-2.18.2\n",
      "\n",
      "\u001b[1m[\u001b[0m\u001b[34;49mnotice\u001b[0m\u001b[1;39;49m]\u001b[0m\u001b[39;49m A new release of pip is available: \u001b[0m\u001b[31;49m23.0.1\u001b[0m\u001b[39;49m -> \u001b[0m\u001b[32;49m24.0\u001b[0m\n",
      "\u001b[1m[\u001b[0m\u001b[34;49mnotice\u001b[0m\u001b[1;39;49m]\u001b[0m\u001b[39;49m To update, run: \u001b[0m\u001b[32;49mpip install --upgrade pip\u001b[0m\n"
     ]
    }
   ],
   "source": [
    "## 非內建module 會有錯誤\n",
    "## import pydantic    ## ModuleNotFoundError: No module named 'pydantic'\n",
    "\n",
    "## pydantic 套件在internet上, 所以使用pip install 將套件捉下來安娤\n",
    "## 方法1: 開終端機, pip install pydantic\n",
    "## 方法2: 或是直接在jupyter notebook中安裝 !pip install pydantic\n",
    "## 方法3: 1. 在專案設一個requirements.txt 寫入所需套件; \n",
    "##        2. 開終端機 pip install -r requirement\n",
    "!pip install pydantic"
   ]
  },
  {
   "cell_type": "code",
   "execution_count": 8,
   "metadata": {},
   "outputs": [],
   "source": [
    "## 用了pydantic，就有所有dataclass 功能\n",
    "## 都用繼承方式, 可自動轉型 (eg. 數字字串str轉成int, 或是rase ValidationError)\n",
    "## 自動init/repr \n",
    "\n",
    "## BaseModel/RootModel/Field\n",
    "\n",
    "from pydantic import BaseModel\n",
    "\n",
    "class Person(BaseModel):\n",
    "    first_name:str\n",
    "    last_name:str\n",
    "    age:int\n"
   ]
  },
  {
   "cell_type": "code",
   "execution_count": 9,
   "metadata": {},
   "outputs": [
    {
     "name": "stdout",
     "output_type": "stream",
     "text": [
      "小明\n",
      "王\n",
      "21\n",
      "first_name='小明' last_name='王' age=21\n"
     ]
    }
   ],
   "source": [
    "p1 = Person(first_name=\"小明\", last_name=\"王\", age=21)\n",
    "print(p1.first_name)\n",
    "print(p1.last_name)\n",
    "print(p1.age)\n",
    "print(p1)"
   ]
  },
  {
   "cell_type": "code",
   "execution_count": 11,
   "metadata": {},
   "outputs": [
    {
     "data": {
      "text/plain": [
       "Person(first_name='小明2', last_name='王', age=21)"
      ]
     },
     "execution_count": 11,
     "metadata": {},
     "output_type": "execute_result"
    }
   ],
   "source": [
    "## 測試自動轉型 (str 轉 int)\n",
    "p2 = Person(first_name=\"小明2\", last_name=\"王\", age=\"21\")\n",
    "p2\n"
   ]
  },
  {
   "cell_type": "code",
   "execution_count": 15,
   "metadata": {},
   "outputs": [
    {
     "ename": "ValidationError",
     "evalue": "2 validation errors for Person\nfirst_name\n  Field required [type=missing, input_value={'fist_name': '小明2', ...e': '王', 'age': '21a'}, input_type=dict]\n    For further information visit https://errors.pydantic.dev/2.7/v/missing\nage\n  Input should be a valid integer, unable to parse string as an integer [type=int_parsing, input_value='21a', input_type=str]\n    For further information visit https://errors.pydantic.dev/2.7/v/int_parsing",
     "output_type": "error",
     "traceback": [
      "\u001b[0;31m---------------------------------------------------------------------------\u001b[0m",
      "\u001b[0;31mValidationError\u001b[0m                           Traceback (most recent call last)",
      "Cell \u001b[0;32mIn[15], line 9\u001b[0m\n\u001b[1;32m      1\u001b[0m \u001b[38;5;66;03m## 測試型別檢查 (int error)\u001b[39;00m\n\u001b[1;32m      2\u001b[0m \u001b[38;5;66;03m# p2 = Person(first_name=\"小明2\", last_name=\"王\", age=\"21a\")\u001b[39;00m\n\u001b[1;32m      3\u001b[0m \u001b[38;5;66;03m# p2\u001b[39;00m\n\u001b[0;32m   (...)\u001b[0m\n\u001b[1;32m      6\u001b[0m \u001b[38;5;66;03m# age\u001b[39;00m\n\u001b[1;32m      7\u001b[0m \u001b[38;5;66;03m#   Input should be a valid integer, unable to parse string as an integer [type=int_parsing, input_value='21a', input_type=str]\u001b[39;00m\n\u001b[0;32m----> 9\u001b[0m p22 \u001b[38;5;241m=\u001b[39m \u001b[43mPerson\u001b[49m\u001b[43m(\u001b[49m\u001b[43mfist_name\u001b[49m\u001b[38;5;241;43m=\u001b[39;49m\u001b[38;5;124;43m\"\u001b[39;49m\u001b[38;5;124;43m小明2\u001b[39;49m\u001b[38;5;124;43m\"\u001b[39;49m\u001b[43m,\u001b[49m\u001b[43m \u001b[49m\u001b[43mlast_name\u001b[49m\u001b[38;5;241;43m=\u001b[39;49m\u001b[38;5;124;43m\"\u001b[39;49m\u001b[38;5;124;43m王\u001b[39;49m\u001b[38;5;124;43m\"\u001b[39;49m\u001b[43m,\u001b[49m\u001b[43m \u001b[49m\u001b[43mage\u001b[49m\u001b[38;5;241;43m=\u001b[39;49m\u001b[38;5;124;43m\"\u001b[39;49m\u001b[38;5;124;43m21a\u001b[39;49m\u001b[38;5;124;43m\"\u001b[39;49m\u001b[43m)\u001b[49m\n\u001b[1;32m     10\u001b[0m p22\n",
      "File \u001b[0;32m~/.local/lib/python3.10/site-packages/pydantic/main.py:176\u001b[0m, in \u001b[0;36mBaseModel.__init__\u001b[0;34m(self, **data)\u001b[0m\n\u001b[1;32m    174\u001b[0m \u001b[38;5;66;03m# `__tracebackhide__` tells pytest and some other tools to omit this function from tracebacks\u001b[39;00m\n\u001b[1;32m    175\u001b[0m __tracebackhide__ \u001b[38;5;241m=\u001b[39m \u001b[38;5;28;01mTrue\u001b[39;00m\n\u001b[0;32m--> 176\u001b[0m \u001b[38;5;28;43mself\u001b[39;49m\u001b[38;5;241;43m.\u001b[39;49m\u001b[43m__pydantic_validator__\u001b[49m\u001b[38;5;241;43m.\u001b[39;49m\u001b[43mvalidate_python\u001b[49m\u001b[43m(\u001b[49m\u001b[43mdata\u001b[49m\u001b[43m,\u001b[49m\u001b[43m \u001b[49m\u001b[43mself_instance\u001b[49m\u001b[38;5;241;43m=\u001b[39;49m\u001b[38;5;28;43mself\u001b[39;49m\u001b[43m)\u001b[49m\n",
      "\u001b[0;31mValidationError\u001b[0m: 2 validation errors for Person\nfirst_name\n  Field required [type=missing, input_value={'fist_name': '小明2', ...e': '王', 'age': '21a'}, input_type=dict]\n    For further information visit https://errors.pydantic.dev/2.7/v/missing\nage\n  Input should be a valid integer, unable to parse string as an integer [type=int_parsing, input_value='21a', input_type=str]\n    For further information visit https://errors.pydantic.dev/2.7/v/int_parsing"
     ]
    }
   ],
   "source": [
    "## 測試型別檢查 (int error)\n",
    "# p2 = Person(first_name=\"小明2\", last_name=\"王\", age=\"21a\")\n",
    "# p2\n",
    "\n",
    "# ValidationError: 1 validation error for Person\n",
    "# age\n",
    "#   Input should be a valid integer, unable to parse string as an integer [type=int_parsing, input_value='21a', input_type=str]\n",
    "\n",
    "\n",
    "p22 = Person(fist_name=\"小明2\", last_name=\"王\", age=\"21a\")\n",
    "p22\n",
    "\n",
    "## typo first_name 打成fist_name\n",
    "## 告警少了first_name\n",
    "# ValidationError: 2 validation errors for Person\n",
    "# first_name\n",
    "#   Field required [type=missing, input_value={'fist_name': '小明2', ...e': '王', 'age': '21a'}, input_type=dict]"
   ]
  },
  {
   "cell_type": "code",
   "execution_count": 13,
   "metadata": {},
   "outputs": [
    {
     "name": "stdout",
     "output_type": "stream",
     "text": [
      "1 validation error for Person\n",
      "age\n",
      "  Input should be a valid integer, unable to parse string as an integer [type=int_parsing, input_value='21a', input_type=str]\n",
      "    For further information visit https://errors.pydantic.dev/2.7/v/int_parsing\n"
     ]
    }
   ],
   "source": [
    "## 用try exception 處理錯誤 (int error)\n",
    "try:\n",
    "    p3 = Person(first_name=\"小明2\", last_name=\"王\", age=\"21a\")\n",
    "    print(p3)\n",
    "except Exception as e:\n",
    "    print(e)"
   ]
  },
  {
   "cell_type": "code",
   "execution_count": 27,
   "metadata": {},
   "outputs": [
    {
     "name": "stdout",
     "output_type": "stream",
     "text": [
      "1 validation error for Person\n",
      "first_name\n",
      "  Field required [type=missing, input_value={'fist_name': '小明2', ...me': '王', 'age': '21'}, input_type=dict]\n",
      "    For further information visit https://errors.pydantic.dev/2.7/v/missing\n"
     ]
    }
   ],
   "source": [
    "## 用try exception 處理錯誤 (field required )\n",
    "try:\n",
    "    p33 = Person(fist_name=\"小明2\", last_name=\"王\", age=\"21\")\n",
    "    print(p33)\n",
    "except Exception as e:\n",
    "    print(e)"
   ]
  },
  {
   "cell_type": "code",
   "execution_count": 21,
   "metadata": {},
   "outputs": [
    {
     "data": {
      "text/plain": [
       "Person(first_name='小明', last_name='王', age=42)"
      ]
     },
     "execution_count": 21,
     "metadata": {},
     "output_type": "execute_result"
    }
   ],
   "source": [
    "## dict 一定要轉成 basemodel\n",
    "## 實體/class method\n",
    "\n",
    "## dict 轉 BaseModel範例, 用class method(model_validate) 驗証dict, 再變成實體instance p4\n",
    "data:dict = {\n",
    "    \"first_name\" : \"小明\", \n",
    "    \"last_name\" : \"王\",\n",
    "    #\"age\":42\n",
    "    \"age\":\"42\"\n",
    "}\n",
    "\n",
    "p4 = Person.model_validate(data)\n",
    "p4     ## Person(first_name='小明', last_name='王', age=42)  => age 已轉成int\n",
    "\n"
   ]
  },
  {
   "cell_type": "code",
   "execution_count": 24,
   "metadata": {},
   "outputs": [
    {
     "data": {
      "text/plain": [
       "Person(first_name='小明', last_name='王', age=42)"
      ]
     },
     "execution_count": 24,
     "metadata": {},
     "output_type": "execute_result"
    }
   ],
   "source": [
    "## json(str) 轉 BaseModel範例, 用class method(model_validate_json) 驗証str, 變成實體instance p5\n",
    "## ''' 表多行字串\n",
    "data_json:str = '''\n",
    "{\n",
    "    \"first_name\" : \"小明\", \n",
    "    \"last_name\" : \"王\",\n",
    "    \"age\":42\n",
    "}\n",
    "'''\n",
    "\n",
    "p5 = Person.model_validate_json(data_json)\n",
    "p5     ## Person(first_name='小明', last_name='王', age=42) => age 已轉成int\n",
    "\n"
   ]
  },
  {
   "cell_type": "code",
   "execution_count": null,
   "metadata": {},
   "outputs": [],
   "source": [
    "\n"
   ]
  }
 ],
 "metadata": {
  "kernelspec": {
   "display_name": "Python 3",
   "language": "python",
   "name": "python3"
  },
  "language_info": {
   "codemirror_mode": {
    "name": "ipython",
    "version": 3
   },
   "file_extension": ".py",
   "mimetype": "text/x-python",
   "name": "python",
   "nbconvert_exporter": "python",
   "pygments_lexer": "ipython3",
   "version": "3.10.14"
  }
 },
 "nbformat": 4,
 "nbformat_minor": 2
}
