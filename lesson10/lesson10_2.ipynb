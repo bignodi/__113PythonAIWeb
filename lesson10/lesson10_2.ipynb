{
 "cells": [
  {
   "cell_type": "code",
   "execution_count": 15,
   "metadata": {},
   "outputs": [
    {
     "data": {
      "text/plain": [
       "Person(first_name='小明', last_name=None, age=18)"
      ]
     },
     "execution_count": 15,
     "metadata": {},
     "output_type": "execute_result"
    }
   ],
   "source": [
    "## optional欄位設定方式\n",
    "## None也是一個資料類型\n",
    "\n",
    "from pydantic import BaseModel\n",
    "\n",
    "class Person(BaseModel):\n",
    "    first_name:str                  ## required\n",
    "    last_name:str | None = None     ## optional\n",
    "    age:int = 18                    ##optional\n",
    "\n",
    "# data_json:str = '''\n",
    "# {\n",
    "#     \"first_name\" : \"小明\", \n",
    "#     \"last_name\" : \"王\",\n",
    "#     \"age\":\"42\"\n",
    "# }\n",
    "# '''\n",
    "\n",
    "# data_json:str = '''\n",
    "# {\n",
    "#     \"first_name\" : \"小明\", \n",
    "#     \"age\":\"42\"\n",
    "# }\n",
    "# '''\n",
    "\n",
    "## 注意不可有逗號\n",
    "data_json:str = '''\n",
    "{\n",
    "    \"first_name\" : \"小明\" \n",
    "}\n",
    "'''\n",
    "\n",
    "\n",
    "p6 = Person.model_validate_json(data_json)\n",
    "p6\n",
    "\n",
    "\n"
   ]
  },
  {
   "cell_type": "code",
   "execution_count": 16,
   "metadata": {},
   "outputs": [
    {
     "data": {
      "text/plain": [
       "Person(first_name='John', last_name='Smith', age=42, lucky_numbers=[1, 3, 5, 7, 9])"
      ]
     },
     "execution_count": 16,
     "metadata": {},
     "output_type": "execute_result"
    }
   ],
   "source": [
    "## 欄位加上list \n",
    "class Person(BaseModel):\n",
    "    first_name:str \n",
    "    last_name:str | None = None \n",
    "    age:int = 18\n",
    "    lucky_numbers:list[int]\n",
    "\n",
    "data_json:str = '''\n",
    "{\n",
    "    \"first_name\": \"John\",\n",
    "    \"last_name\": \"Smith\",\n",
    "    \"age\":42,\n",
    "    \"lucky_numbers\":[1,3,5,7,9]\n",
    "}\n",
    "'''\n",
    "p7 = Person.model_validate_json(data_json)\n",
    "p7"
   ]
  },
  {
   "cell_type": "code",
   "execution_count": 17,
   "metadata": {},
   "outputs": [
    {
     "data": {
      "text/plain": [
       "Person(id_=100, first_name='John', last_name='Smith', age=42)"
      ]
     },
     "execution_count": 17,
     "metadata": {},
     "output_type": "execute_result"
    }
   ],
   "source": [
    "## 轉換原始資料欄位 成正確格式\n",
    "\n",
    "from pydantic import BaseModel,Field\n",
    "\n",
    "## id 不建議用; 變數不可有空格\n",
    "data:str = '''\n",
    "{\n",
    "    \"id\":100,\n",
    "    \"First Name\":\"John\",\n",
    "    \"LASTNAME\":\"Smith\",\n",
    "    \"age in years\": 42\n",
    "}\n",
    "'''\n",
    "\n",
    "class Person(BaseModel):\n",
    "    id_:int = Field(alias=\"id\")\n",
    "    first_name:str = Field(alias='First Name')\n",
    "    last_name:str = Field(alias=\"LASTNAME\", default=None)\n",
    "    age:int = Field(alias=\"age in years\", default=18)\n",
    "\n",
    "p8 = Person.model_validate_json(data)\n",
    "p8"
   ]
  },
  {
   "cell_type": "code",
   "execution_count": 23,
   "metadata": {},
   "outputs": [
    {
     "name": "stdout",
     "output_type": "stream",
     "text": [
      "first_name='Arthur' last_name='Clarke' born=Born(place=Place(country='Lunar Colony', city='Central City'), date='2001-01-01')\n"
     ]
    },
    {
     "data": {
      "text/plain": [
       "Born(place=Place(country='Lunar Colony', city='Central City'), date='2001-01-01')"
      ]
     },
     "execution_count": 23,
     "metadata": {},
     "output_type": "execute_result"
    }
   ],
   "source": [
    "## 巢狀結構 資料捉取\n",
    "\n",
    "## 先到json online viewer 網站看結構\n",
    "## 定義三個class : Person, Born, Place\n",
    "\n",
    "from pydantic import BaseModel,Field\n",
    "\n",
    "data = '''\n",
    "{\n",
    "    \"firstName\": \"Arthur\",\n",
    "    \"lastName\": \"Clarke\",\n",
    "    \"born\":{\n",
    "        \"place\":{\n",
    "            \"country\":\"Lunar Colony\",\n",
    "            \"city\": \"Central City\"\n",
    "        },\n",
    "        \"date\":\"2001-01-01\"\n",
    "    }\n",
    "}\n",
    "'''\n",
    "\n",
    "\n",
    "class Place(BaseModel):\n",
    "    country:str\n",
    "    city:str\n",
    "\n",
    "## 巢狀 Place class\n",
    "class Born(BaseModel):\n",
    "    place:Place\n",
    "    date:str\n",
    "\n",
    "## 巢狀Born class\n",
    "class Person(BaseModel):\n",
    "    first_name:str = Field(alias=\"firstName\")\n",
    "    last_name:str = Field(alias=\"lastName\")\n",
    "    born:Born\n",
    "\n",
    "\n",
    "p9 = Person.model_validate_json(data)\n",
    "print(p9)\n",
    "## 取city值\n",
    "p9.born.place.city\n",
    "## 取country值\n",
    "p9.born.place.country\n",
    "\n",
    "\n",
    "p9.born.place\n",
    "p9.born\n"
   ]
  }
 ],
 "metadata": {
  "kernelspec": {
   "display_name": "Python 3",
   "language": "python",
   "name": "python3"
  },
  "language_info": {
   "codemirror_mode": {
    "name": "ipython",
    "version": 3
   },
   "file_extension": ".py",
   "mimetype": "text/x-python",
   "name": "python",
   "nbconvert_exporter": "python",
   "pygments_lexer": "ipython3",
   "version": "3.10.14"
  }
 },
 "nbformat": 4,
 "nbformat_minor": 2
}
