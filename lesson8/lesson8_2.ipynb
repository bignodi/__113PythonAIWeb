{
 "cells": [
  {
   "cell_type": "code",
   "execution_count": 14,
   "metadata": {},
   "outputs": [],
   "source": [
    "## 3.10 後新加入 data Classes\n",
    "##  automatically adding generated special methods such as __init__() and __repr__() to user-defined classes\n",
    "\n",
    "from dataclasses import dataclass\n",
    "\n",
    "@dataclass\n",
    "class Student:\n",
    "   \n",
    "    ## type hint\n",
    "    number:str  ## field\n",
    "    chinese:int\n",
    "    english:int\n",
    "    math:int\n",
    "\n",
    "    ## 使用property\n",
    "    @property\n",
    "    def sum(self) -> int:\n",
    "        return self.chinese + self.english + self.math\n",
    "    \n",
    "    ## 使用method\n",
    "    def average(self) -> float:\n",
    "        return round(self.sum/3, ndigits=2)"
   ]
  },
  {
   "cell_type": "code",
   "execution_count": 13,
   "metadata": {},
   "outputs": [
    {
     "name": "stdout",
     "output_type": "stream",
     "text": [
      "Student(number='王小明', chinese=89, english=98, math=87)\n",
      "89\n",
      "98\n",
      "87\n",
      "274\n",
      "91.33\n"
     ]
    }
   ],
   "source": [
    "#Student(\"王小明\",chinese=89, english=98,math=87)\n",
    "#Student(\"王小明\",89, 98,87)\n",
    "\n",
    "s1 = Student(\"王小明\",chinese=89, english=98,math=87)\n",
    "print(s1)\n",
    "print(s1.chinese)\n",
    "print(s1.english)\n",
    "print(s1.math)\n",
    "print(s1.sum)   ## 注意: @properyt 不用括弧, 不是method !!\n",
    "print(s1.average())   ## 注意: method 要括弧\n"
   ]
  }
 ],
 "metadata": {
  "kernelspec": {
   "display_name": "Python 3",
   "language": "python",
   "name": "python3"
  },
  "language_info": {
   "codemirror_mode": {
    "name": "ipython",
    "version": 3
   },
   "file_extension": ".py",
   "mimetype": "text/x-python",
   "name": "python",
   "nbconvert_exporter": "python",
   "pygments_lexer": "ipython3",
   "version": "3.10.14"
  }
 },
 "nbformat": 4,
 "nbformat_minor": 2
}
