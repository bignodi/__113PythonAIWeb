{
 "cells": [
  {
   "cell_type": "code",
   "execution_count": 4,
   "metadata": {},
   "outputs": [
    {
     "name": "stdout",
     "output_type": "stream",
     "text": [
      "Defaulting to user installation because normal site-packages is not writeable\n",
      "Requirement already satisfied: pydantic in /home/vscode/.local/lib/python3.10/site-packages (2.7.1)\n",
      "Requirement already satisfied: typing-extensions>=4.6.1 in /home/vscode/.local/lib/python3.10/site-packages (from pydantic) (4.11.0)\n",
      "Requirement already satisfied: pydantic-core==2.18.2 in /home/vscode/.local/lib/python3.10/site-packages (from pydantic) (2.18.2)\n",
      "Requirement already satisfied: annotated-types>=0.4.0 in /home/vscode/.local/lib/python3.10/site-packages (from pydantic) (0.7.0)\n",
      "\n",
      "\u001b[1m[\u001b[0m\u001b[34;49mnotice\u001b[0m\u001b[1;39;49m]\u001b[0m\u001b[39;49m A new release of pip is available: \u001b[0m\u001b[31;49m23.0.1\u001b[0m\u001b[39;49m -> \u001b[0m\u001b[32;49m24.0\u001b[0m\n",
      "\u001b[1m[\u001b[0m\u001b[34;49mnotice\u001b[0m\u001b[1;39;49m]\u001b[0m\u001b[39;49m To update, run: \u001b[0m\u001b[32;49mpip install --upgrade pip\u001b[0m\n"
     ]
    }
   ],
   "source": [
    "!pip install pydantic"
   ]
  },
  {
   "cell_type": "code",
   "execution_count": 10,
   "metadata": {},
   "outputs": [
    {
     "ename": "AttributeError",
     "evalue": "results",
     "output_type": "error",
     "traceback": [
      "\u001b[0;31m---------------------------------------------------------------------------\u001b[0m",
      "\u001b[0;31mAttributeError\u001b[0m                            Traceback (most recent call last)",
      "Cell \u001b[0;32mIn[10], line 20\u001b[0m\n\u001b[1;32m     16\u001b[0m \u001b[38;5;28;01mclass\u001b[39;00m \u001b[38;5;21;01mMyResults\u001b[39;00m(BaseModel):\n\u001b[1;32m     17\u001b[0m     results:List[MyRecords] \u001b[38;5;241m=\u001b[39m []\n\u001b[0;32m---> 20\u001b[0m c1 \u001b[38;5;241m=\u001b[39m \u001b[43mMyResults\u001b[49m\u001b[38;5;241;43m.\u001b[39;49m\u001b[43mresults\u001b[49m\n\u001b[1;32m     21\u001b[0m \u001b[38;5;28mprint\u001b[39m(c1)\n\u001b[1;32m     23\u001b[0m \u001b[38;5;28;01mwith\u001b[39;00m \u001b[38;5;28mopen\u001b[39m(\u001b[38;5;124m\"\u001b[39m\u001b[38;5;124m新北市食品工廠清冊.json\u001b[39m\u001b[38;5;124m\"\u001b[39m,encoding\u001b[38;5;241m=\u001b[39m\u001b[38;5;124m\"\u001b[39m\u001b[38;5;124mutf-8\u001b[39m\u001b[38;5;124m\"\u001b[39m) \u001b[38;5;28;01mas\u001b[39;00m file:\n",
      "File \u001b[0;32m~/.local/lib/python3.10/site-packages/pydantic/_internal/_model_construction.py:242\u001b[0m, in \u001b[0;36mModelMetaclass.__getattr__\u001b[0;34m(self, item)\u001b[0m\n\u001b[1;32m    239\u001b[0m         \u001b[38;5;28;01mif\u001b[39;00m rebuilt_validator \u001b[38;5;129;01mis\u001b[39;00m \u001b[38;5;129;01mnot\u001b[39;00m \u001b[38;5;28;01mNone\u001b[39;00m:\n\u001b[1;32m    240\u001b[0m             \u001b[38;5;66;03m# In this case, a validator was built, and so `__pydantic_core_schema__` should now be set\u001b[39;00m\n\u001b[1;32m    241\u001b[0m             \u001b[38;5;28;01mreturn\u001b[39;00m \u001b[38;5;28mgetattr\u001b[39m(\u001b[38;5;28mself\u001b[39m, \u001b[38;5;124m'\u001b[39m\u001b[38;5;124m__pydantic_core_schema__\u001b[39m\u001b[38;5;124m'\u001b[39m)\n\u001b[0;32m--> 242\u001b[0m \u001b[38;5;28;01mraise\u001b[39;00m \u001b[38;5;167;01mAttributeError\u001b[39;00m(item)\n",
      "\u001b[0;31mAttributeError\u001b[0m: results"
     ]
    }
   ],
   "source": [
    "from typing import List\n",
    "from pydantic import BaseModel, Field\n",
    "\n",
    "class Company(BaseModel):\n",
    "    Name_Ins:str\n",
    "    No:int\n",
    "    Address:str\n",
    "    tax_ID_number:int\n",
    "    X:float=Field(alias='wgs84aX')\n",
    "    Y:float=Field(alias='wgs84aY')\n",
    "\n",
    "\n",
    "class MyRecords(BaseModel):\n",
    "    records:List[Company] = []\n",
    "\n",
    "class MyResults(BaseModel):\n",
    "    results:List[MyRecords] = []\n",
    "\n",
    "\n",
    "c1 = MyResults.results\n",
    "print(c1)\n",
    "\n",
    "with open(\"新北市食品工廠清冊.json\",encoding=\"utf-8\") as file:\n",
    "    content=file.read()\n",
    "#    aresults:Results=Results.model_validate_json(content)\n",
    "\n",
    "#acompany = aresults.records\n",
    "\n",
    "#for a in acompany:\n",
    "#    print(a.Name_Ins)\n",
    "\n",
    "\n",
    "\n"
   ]
  }
 ],
 "metadata": {
  "kernelspec": {
   "display_name": "Python 3",
   "language": "python",
   "name": "python3"
  },
  "language_info": {
   "codemirror_mode": {
    "name": "ipython",
    "version": 3
   },
   "file_extension": ".py",
   "mimetype": "text/x-python",
   "name": "python",
   "nbconvert_exporter": "python",
   "pygments_lexer": "ipython3",
   "version": "3.10.14"
  }
 },
 "nbformat": 4,
 "nbformat_minor": 2
}
