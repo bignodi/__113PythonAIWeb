{
 "cells": [
  {
   "cell_type": "code",
   "execution_count": 12,
   "metadata": {},
   "outputs": [
    {
     "name": "stdout",
     "output_type": "stream",
     "text": [
      "bmi: 44.44444444444444\n",
      "重度肥胖\n"
     ]
    }
   ],
   "source": [
    "\n",
    "def chkBMI(bmi):\n",
    "    if bmi < 18.5:\n",
    "        return \"體重過輕\"\n",
    "    elif bmi >= 18.5 and bmi < 24:\n",
    "        return \"正常範圍\"\n",
    "    elif bmi >=24 and bmi < 27 :\n",
    "        return \"過重\"\n",
    "    elif bmi >=27 and bmi < 30:\n",
    "        return \"輕度肥胖\"\n",
    "    elif bmi >=30 and bmi < 35:\n",
    "        return \"中度肥胖\"\n",
    "    else:\n",
    "        return \"重度肥胖\"\n",
    "\n",
    "\n",
    "name = input(\"請輸入姓名:\")\n",
    "weight = float(input(\"請輸入體重:\"))\n",
    "height = float(input(\"請輸入身高:\"))\n",
    "\n",
    "bmi = weight/(height/100) ** 2\n",
    "\n",
    "print(\"bmi:\",bmi)\n",
    "print(chkBMI(bmi))\n"
   ]
  },
  {
   "cell_type": "code",
   "execution_count": 29,
   "metadata": {},
   "outputs": [
    {
     "name": "stdout",
     "output_type": "stream",
     "text": [
      "ss您好\n",
      "BMI: 22.89\n",
      "體重 正常範圍\n"
     ]
    }
   ],
   "source": [
    "###### class 寫法\n",
    "class PersonBMI():\n",
    "    def __init__(self, name:str, weight:float, height:float):\n",
    "        self.name = name + \"您好\"\n",
    "        self.weight = weight\n",
    "        self.height = height\n",
    "        self.__bmi = weight/(height/100) ** 2\n",
    "\n",
    "\n",
    "    @property\n",
    "    def bmi(self):\n",
    "        return round(self.__bmi, ndigits=2)\n",
    "\n",
    "    def checkBMI(self)->str:\n",
    "        if self.bmi < 18.5:\n",
    "            return \"體重過輕\"\n",
    "        elif self.bmi >= 18.5 and self.bmi < 24:\n",
    "            return \"正常範圍\"\n",
    "        elif self.bmi >=24 and self.bmi < 27 :\n",
    "            return \"過重\"\n",
    "        elif self.bmi >=27 and self.bmi < 30:\n",
    "            return \"輕度肥胖\"\n",
    "        elif self.bmi >=30 and self.bmi < 35:\n",
    "            return \"中度肥胖\"\n",
    "        else:\n",
    "            return \"重度肥胖\"\n",
    "        \n",
    "\n",
    "\n",
    "name = input(\"請輸入姓名:\")\n",
    "weight = float(input(\"請輸入體重:\"))\n",
    "height = float(input(\"請輸入身高:\"))\n",
    "\n",
    "p1 = PersonBMI(name, weight, height)\n",
    "\n",
    "print(p1.name)\n",
    "print(\"BMI:\", p1.bmi)\n",
    "print(\"體重:\",p1.checkBMI())\n"
   ]
  },
  {
   "cell_type": "code",
   "execution_count": 33,
   "metadata": {},
   "outputs": [
    {
     "name": "stdout",
     "output_type": "stream",
     "text": [
      "jj\n",
      "BMI: 22.89\n",
      "體重: 正常範圍\n"
     ]
    }
   ],
   "source": [
    "###### 使用dataclass\n",
    "\n",
    "from dataclasses import dataclass\n",
    "\n",
    "@dataclass\n",
    "class PersonBMI:\n",
    "    name:str\n",
    "    weight:float\n",
    "    height:float\n",
    "\n",
    "    @property\n",
    "    def bmi(self)->float:\n",
    "        return round(self.weight/(self.height/100) ** 2, ndigits=2)\n",
    "\n",
    "    def checkBMI(self)->str:\n",
    "        if self.bmi < 18.5:\n",
    "            return \"體重過輕\"\n",
    "        elif self.bmi >= 18.5 and self.bmi < 24:\n",
    "            return \"正常範圍\"\n",
    "        elif self.bmi >=24 and self.bmi < 27 :\n",
    "            return \"過重\"\n",
    "        elif self.bmi >=27 and self.bmi < 30:\n",
    "            return \"輕度肥胖\"\n",
    "        elif self.bmi >=30 and self.bmi < 35:\n",
    "            return \"中度肥胖\"\n",
    "        else:\n",
    "            return \"重度肥胖\"\n",
    "\n",
    "\n",
    "name = input(\"請輸入姓名:\")\n",
    "weight = float(input(\"請輸入體重:\"))\n",
    "height = float(input(\"請輸入身高:\"))\n",
    "\n",
    "\n",
    "p2 = PersonBMI(name, weight, height)\n",
    "\n",
    "print(p2.name)\n",
    "print(\"BMI:\",p2.bmi)\n",
    "print(\"體重:\",p2.checkBMI())\n"
   ]
  }
 ],
 "metadata": {
  "kernelspec": {
   "display_name": "Python 3",
   "language": "python",
   "name": "python3"
  },
  "language_info": {
   "codemirror_mode": {
    "name": "ipython",
    "version": 3
   },
   "file_extension": ".py",
   "mimetype": "text/x-python",
   "name": "python",
   "nbconvert_exporter": "python",
   "pygments_lexer": "ipython3",
   "version": "3.10.14"
  }
 },
 "nbformat": 4,
 "nbformat_minor": 2
}
