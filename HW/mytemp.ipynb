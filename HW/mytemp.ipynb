{
 "cells": [
  {
   "cell_type": "code",
   "execution_count": 1,
   "metadata": {},
   "outputs": [
    {
     "name": "stdout",
     "output_type": "stream",
     "text": [
      "\n"
     ]
    }
   ],
   "source": [
    "import json\n",
    "\n",
    "from enum import Enum\n",
    "from typing import List\n",
    "\n",
    "from pydantic import BaseModel\n",
    "\n",
    "\n",
    "class Category(str, Enum):\n",
    "    physics = \"physics\"\n",
    "    math = \"math\"\n",
    "    economics = \"economics\"\n",
    "    medicine = \"medicine\"\n",
    "    peace = \"peace\"\n",
    "    chemistry = \"chemistry\"\n",
    "    literature = \"literature\"\n",
    "\n",
    "\n",
    "class Prize(BaseModel):\n",
    "    year: int\n",
    "    category: Category\n",
    "    share: int\n",
    "    motivation: str\n",
    "    affiliations: list\n",
    "\n",
    "\n",
    "class Laureate(BaseModel):\n",
    "    \"\"\"fields with no values are required\"\"\"\n",
    "    id: int\n",
    "    firstname: str\n",
    "    surname: str = \"\"\n",
    "    born: str = None\n",
    "    died: str = None\n",
    "    bornCountry: str = None\n",
    "    bornCountryCode: str = None\n",
    "    bornCity: str = None\n",
    "    diedCountry: str = None\n",
    "    diedCountryCode: str = None\n",
    "    diedCity: str = None\n",
    "    gender: str = None\n",
    "    prizes: List[Prize]\n",
    "\n",
    "\n",
    "class Laureates(BaseModel):\n",
    "    laureates: List[Laureate]\n",
    "\n",
    "# Load data\n",
    "with open(\"laureate.json\") as f:\n",
    "    datax = json.load(f)\n",
    "    laureates_data = Laureates(**datax)\n",
    "\n",
    "# Try filtering by filed values\n",
    "filtered = filter(lambda l: \"Albert\" in l.firstname, laureates_data.laureates)\n",
    "\n",
    "print(\"\\n\".join([\"%s %s\" % (l.firstname, l.surname) for l in filtered]))\n",
    "\n",
    "# Write data to file\n",
    "with open('output.json', 'w') as f:\n",
    "    f.write(laureates_data.json())\n",
    "\n",
    "\n",
    "# Write json schema to file\n",
    "with open('output_schema.json', 'w') as f:\n",
    "    f.write(laureates_data.schema_json(indent=2))"
   ]
  }
 ],
 "metadata": {
  "kernelspec": {
   "display_name": "Python 3",
   "language": "python",
   "name": "python3"
  },
  "language_info": {
   "codemirror_mode": {
    "name": "ipython",
    "version": 3
   },
   "file_extension": ".py",
   "mimetype": "text/x-python",
   "name": "python",
   "nbconvert_exporter": "python",
   "pygments_lexer": "ipython3",
   "version": "3.10.14"
  }
 },
 "nbformat": 4,
 "nbformat_minor": 2
}
