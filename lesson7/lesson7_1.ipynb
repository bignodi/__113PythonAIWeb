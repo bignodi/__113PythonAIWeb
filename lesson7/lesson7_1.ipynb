{
 "cells": [
  {
   "cell_type": "code",
   "execution_count": null,
   "metadata": {},
   "outputs": [],
   "source": [
    "## 三種資料結構介紹: list, dictionary, set\n",
    "## tuple 只有存資料, 無法操作增減, 故不算"
   ]
  },
  {
   "cell_type": "code",
   "execution_count": 36,
   "metadata": {},
   "outputs": [
    {
     "data": {
      "text/plain": [
       "list"
      ]
     },
     "execution_count": 36,
     "metadata": {},
     "output_type": "execute_result"
    }
   ],
   "source": [
    "#fruits = ['orange','apple','pear','banana','kiwi','apple','banana']\n",
    "\n",
    "## 用型別 hint \n",
    "#fruits:list[str] = ['orange','apple','pear','banana','kiwi','apple','banana']\n",
    "fruits:list = ['orange','apple','pear','banana','kiwi','apple','blackberry']\n",
    "type(fruits)"
   ]
  },
  {
   "cell_type": "code",
   "execution_count": 19,
   "metadata": {},
   "outputs": [
    {
     "ename": "TypeError",
     "evalue": "list indices must be integers or slices, not str",
     "output_type": "error",
     "traceback": [
      "\u001b[0;31m---------------------------------------------------------------------------\u001b[0m",
      "\u001b[0;31mTypeError\u001b[0m                                 Traceback (most recent call last)",
      "Cell \u001b[0;32mIn[19], line 7\u001b[0m\n\u001b[1;32m      5\u001b[0m fruits[\u001b[38;5;241m6\u001b[39m]\n\u001b[1;32m      6\u001b[0m \u001b[38;5;66;03m#fruits[7]  ## IndexError: list index out of range\u001b[39;00m\n\u001b[0;32m----> 7\u001b[0m \u001b[43mfruits\u001b[49m\u001b[43m[\u001b[49m\u001b[38;5;124;43m\"\u001b[39;49m\u001b[38;5;124;43mguava\u001b[39;49m\u001b[38;5;124;43m\"\u001b[39;49m\u001b[43m]\u001b[49m\n",
      "\u001b[0;31mTypeError\u001b[0m: list indices must be integers or slices, not str"
     ]
    }
   ],
   "source": [
    "len(fruits)\n",
    "fruits[0]\n",
    "fruits[1]\n",
    "fruits[2]\n",
    "fruits[6]\n",
    "#fruits[7]          ## IndexError: list index out of range\n",
    "#fruits[\"guava\"]     ## TypeError: list indices must be integers or slices, not str\n"
   ]
  },
  {
   "cell_type": "code",
   "execution_count": 18,
   "metadata": {},
   "outputs": [
    {
     "name": "stdout",
     "output_type": "stream",
     "text": [
      "something wrong!\n"
     ]
    }
   ],
   "source": [
    "try:\n",
    "    #print(fruits[0])\n",
    "    #print(fruits[7])\n",
    "    print(fruits[\"guava\"])\n",
    "except IndexError:\n",
    "    print(\"超過範圍\")\n",
    "except:\n",
    "    print(\"something wrong!\")"
   ]
  },
  {
   "cell_type": "code",
   "execution_count": 26,
   "metadata": {},
   "outputs": [
    {
     "name": "stdout",
     "output_type": "stream",
     "text": [
      "1 2 3 4 5 6 7 8 9 \n",
      "1 3 5 7 9 "
     ]
    }
   ],
   "source": [
    "range(5)    ## 0~4\n",
    "range(1,10) ## 1~9\n",
    "range(1,10,2) ## 1,3,5,7,9\n",
    "\n",
    "# for i in range(5):\n",
    "#     print(i)\n",
    "\n",
    "for i in range(1,10):\n",
    "    print(i, end=' ')\n",
    "\n",
    "print()\n",
    "\n",
    "for i in range(1,10,2):\n",
    "    print(i, end=\" \")"
   ]
  },
  {
   "cell_type": "code",
   "execution_count": 35,
   "metadata": {},
   "outputs": [
    {
     "name": "stdout",
     "output_type": "stream",
     "text": [
      "orange\n",
      "apple\n",
      "pear\n",
      "banana\n",
      "kiwi\n",
      "apple\n",
      "banana\n"
     ]
    }
   ],
   "source": [
    "## 列出元件, 方法一\n",
    "# n = len(fruits)\n",
    "# for i in range(n):\n",
    "#     print(fruits[i])\n",
    "\n",
    "## 列出元件, 方法二\n",
    "for item in fruits:\n",
    "    print(item)"
   ]
  },
  {
   "cell_type": "code",
   "execution_count": 37,
   "metadata": {},
   "outputs": [
    {
     "name": "stdout",
     "output_type": "stream",
     "text": [
      "banana\n",
      "blackberry\n"
     ]
    }
   ],
   "source": [
    "# for item in fruits:\n",
    "#     if 'b' in item:\n",
    "#         print(item)\n",
    "\n",
    "for item in fruits:\n",
    "    if not 'b' in item:\n",
    "        print(item)\n"
   ]
  },
  {
   "cell_type": "code",
   "execution_count": 45,
   "metadata": {},
   "outputs": [
    {
     "name": "stdout",
     "output_type": "stream",
     "text": [
      "<class 'tuple'>\n",
      "orange\n",
      "apple\n",
      "pear\n",
      "banana\n",
      "kiwi\n",
      "apple\n",
      "blackberry\n"
     ]
    }
   ],
   "source": [
    "## \n",
    "#list(\"hello python\")\n",
    "\n",
    "## tuple\n",
    "#fruits = ('orange','apple','pear','banana','kiwi','apple','blackberry')\n",
    "fruits:tuple[str] = ('orange','apple','pear','banana','kiwi','apple','blackberry')\n",
    "print(type(fruits))\n",
    "\n",
    "for item in fruits:\n",
    "    print(item)\n"
   ]
  },
  {
   "cell_type": "code",
   "execution_count": 47,
   "metadata": {},
   "outputs": [
    {
     "name": "stdout",
     "output_type": "stream",
     "text": [
      "王小明\n",
      "25\n",
      "160\n"
     ]
    }
   ],
   "source": [
    "## tuple 拆解\n",
    "#(name, age, height) = (\"王小明\",25,160)\n",
    "name, age, height = \"王小明\",25,160\n",
    "print(name)\n",
    "print(age)\n",
    "print(height)"
   ]
  },
  {
   "cell_type": "code",
   "execution_count": 48,
   "metadata": {},
   "outputs": [
    {
     "data": {
      "text/plain": [
       "(5, 9, 8, 'a')"
      ]
     },
     "execution_count": 48,
     "metadata": {},
     "output_type": "execute_result"
    }
   ],
   "source": [
    "## 預設tuple 表示\n",
    "5,9,8,'a'"
   ]
  },
  {
   "cell_type": "code",
   "execution_count": 50,
   "metadata": {},
   "outputs": [
    {
     "data": {
      "text/plain": [
       "{'tw': 'Taiwan', 'jp': 'Japan'}"
      ]
     },
     "execution_count": 50,
     "metadata": {},
     "output_type": "execute_result"
    }
   ],
   "source": [
    "## dict\n",
    "## mapping/iteralable\n",
    "\n",
    "#codes = {\"tw\":\"Taiwan\", \"jp\":\"Japan\"}\n",
    "codes:dict[str,str] = {\"tw\":\"Taiwan\", \"jp\":\"Japan\"}\n",
    "codes"
   ]
  },
  {
   "cell_type": "code",
   "execution_count": 53,
   "metadata": {},
   "outputs": [
    {
     "name": "stdout",
     "output_type": "stream",
     "text": [
      "tw:Taiwan\n",
      "jp:Japan\n"
     ]
    }
   ],
   "source": [
    "len(codes)\n",
    "\n",
    "## 用key值取出value\n",
    "for item in codes:\n",
    "    print(item, end=\":\")\n",
    "    print(codes[item])"
   ]
  },
  {
   "cell_type": "code",
   "execution_count": 56,
   "metadata": {},
   "outputs": [
    {
     "data": {
      "text/plain": [
       "[1, 2, 3]"
      ]
     },
     "execution_count": 56,
     "metadata": {},
     "output_type": "execute_result"
    }
   ],
   "source": [
    "## set 取不重複值 (交集、聯集...)\n",
    "{1,1,2,2,3,3}\n",
    "\n",
    "## 取值操作,轉回list 使用\n",
    "list({1,1,2,2,3,3})\n",
    "\n"
   ]
  }
 ],
 "metadata": {
  "kernelspec": {
   "display_name": "Python 3",
   "language": "python",
   "name": "python3"
  },
  "language_info": {
   "codemirror_mode": {
    "name": "ipython",
    "version": 3
   },
   "file_extension": ".py",
   "mimetype": "text/x-python",
   "name": "python",
   "nbconvert_exporter": "python",
   "pygments_lexer": "ipython3",
   "version": "3.10.14"
  }
 },
 "nbformat": 4,
 "nbformat_minor": 2
}
