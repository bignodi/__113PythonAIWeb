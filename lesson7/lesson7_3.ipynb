{
 "cells": [
  {
   "cell_type": "code",
   "execution_count": null,
   "metadata": {},
   "outputs": [],
   "source": [
    "## 第三種資料結構: class"
   ]
  },
  {
   "cell_type": "code",
   "execution_count": 4,
   "metadata": {},
   "outputs": [
    {
     "name": "stdout",
     "output_type": "stream",
     "text": [
      "王小明\n",
      "王小明\n"
     ]
    }
   ],
   "source": [
    "## 建立自訂class \n",
    "# class Person():\n",
    "#     pass\n",
    "# type(p1)\n",
    "\n",
    "class Person():\n",
    "    ## 自動initial, 產生Person的實體\n",
    "    def __init__(self):\n",
    "        ## 定義屬性 attribute\n",
    "        self.name = \"王小明\"\n",
    "\n",
    "## 產生Person的實體, 然後assign 給p1 管理\n",
    "p1 = Person()\n",
    "## 透過p1 存取name 屬性\n",
    "print(p1.name)\n",
    "\n",
    "p2 = Person()\n",
    "print(p2.name)\n",
    "\n"
   ]
  },
  {
   "cell_type": "code",
   "execution_count": 9,
   "metadata": {},
   "outputs": [
    {
     "name": "stdout",
     "output_type": "stream",
     "text": [
      "王小明\n",
      "陳小明\n"
     ]
    }
   ],
   "source": [
    "## 定義時稱為「參數」(Parameter) \n",
    "## 呼叫時稱為「引數」(Argument)\n",
    "\n",
    "\n",
    "class Person():\n",
    "    ## 自訂initial, 產生Person的實體, 改寫為傳入參數值(Parameter) \n",
    "    def __init__(self, n):\n",
    "        ## 定義屬性 attribute\n",
    "        self.name = n\n",
    "    \n",
    "    ## print 實體是, 要顯示的東西\n",
    "    ## __repr__() is one of the magic methods that returns a printable representation of an object in Python that can be customized or predefined, \n",
    "    ## i.e. we can also create the string representation of the object according to our needs.\n",
    "    def __repr__(self):\n",
    "        pass\n",
    "        #return \"我是Person的實體\"\n",
    "\n",
    "\n",
    "## 建立實體\n",
    "## 產生Person的實體, 然後assign 給p1 管理, 並傳入引數值(argument, 真實的值)\n",
    "p1 = Person(\"王小明\")\n",
    "## 透過p1 存取name 屬性\n",
    "print(p1.name)\n",
    "\n",
    "p2 = Person(\"陳小明\")\n",
    "print(p2.name)\n"
   ]
  },
  {
   "cell_type": "code",
   "execution_count": 1,
   "metadata": {},
   "outputs": [
    {
     "ename": "NameError",
     "evalue": "name 'p1' is not defined",
     "output_type": "error",
     "traceback": [
      "\u001b[0;31m---------------------------------------------------------------------------\u001b[0m",
      "\u001b[0;31mNameError\u001b[0m                                 Traceback (most recent call last)",
      "Cell \u001b[0;32mIn[1], line 1\u001b[0m\n\u001b[0;32m----> 1\u001b[0m \u001b[38;5;28mprint\u001b[39m(\u001b[43mp1\u001b[49m)\n",
      "\u001b[0;31mNameError\u001b[0m: name 'p1' is not defined"
     ]
    }
   ],
   "source": []
  }
 ],
 "metadata": {
  "kernelspec": {
   "display_name": "Python 3",
   "language": "python",
   "name": "python3"
  },
  "language_info": {
   "codemirror_mode": {
    "name": "ipython",
    "version": 3
   },
   "file_extension": ".py",
   "mimetype": "text/x-python",
   "name": "python",
   "nbconvert_exporter": "python",
   "pygments_lexer": "ipython3",
   "version": "3.10.14"
  }
 },
 "nbformat": 4,
 "nbformat_minor": 2
}
